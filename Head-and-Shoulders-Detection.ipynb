{
 "cells": [
  {
   "cell_type": "code",
   "execution_count": 1,
   "id": "817e8e0f",
   "metadata": {},
   "outputs": [],
   "source": [
    "import pandas as pd\n"
   ]
  },
  {
   "cell_type": "code",
   "execution_count": 6,
   "id": "4b8faee0",
   "metadata": {},
   "outputs": [
    {
     "name": "stdout",
     "output_type": "stream",
     "text": [
      "   Time of Candlesticks    Open    High     Low   Close   Volume       OI  \\\n",
      "24                09:45  156.00  179.75  156.00  179.75  2810715  3758325   \n",
      "33                09:54  160.60  165.20  146.60  162.55  1102185  4075530   \n",
      "39                10:00   90.85  113.10   86.20  106.20  1926855  5031660   \n",
      "42                10:03   91.05  104.70   90.05   91.90  1121055  5164500   \n",
      "46                10:07   91.10  103.35   77.20   84.35  1707150  5436045   \n",
      "\n",
      "    HeadAndShoulders  \n",
      "24              True  \n",
      "33              True  \n",
      "39              True  \n",
      "42              True  \n",
      "46              True  \n"
     ]
    }
   ],
   "source": [
    "csv_file = 'candlesticks.csv'\n",
    "df = pd.read_csv(csv_file)\n",
    "\n",
    "def is_head_and_shoulder(df, row):\n",
    "    if row < 2 or row > len(df) - 3:\n",
    "        return False \n",
    "    \n",
    "    left_shoulder = df['High'][row - 2] # two rows before current row\n",
    "    head = df['High'][row] #current row\n",
    "    right_shoulder = df['High'][row + 2] # two rows after current row\n",
    "    \n",
    "    return left_shoulder < head > right_shoulder and abs(left_shoulder - right_shoulder) / head < 0.1\n",
    "\n",
    "\n",
    "df['HeadAndShoulders'] = False\n",
    "\n",
    "# loop for detection\n",
    "for i in range(2, len(df) - 2): # range(2, len(df) - 2) stands for starting point from row 2 as its safe to start from 2 because we dont know the counting is starting from 0 or 1 same way ending point is two rows before last count to get better results\n",
    "    if is_head_and_shoulder(df, i):\n",
    "        df.at[i, 'HeadAndShoulders'] = True\n",
    "        \n",
    "\n",
    "#for filtering the rows with the pattern       \n",
    "head_and_shoulders = df[df['HeadAndShoulders']]\n",
    "\n",
    "head_and_shoulders.to_csv('head_and_shoulders.csv',index=False)\n",
    "\n",
    "print(head_and_shoulders.head())\n",
    "\n",
    "        \n",
    "        \n",
    "    "
   ]
  },
  {
   "cell_type": "code",
   "execution_count": null,
   "id": "073dc2eb",
   "metadata": {},
   "outputs": [],
   "source": []
  }
 ],
 "metadata": {
  "kernelspec": {
   "display_name": "Python (Quantkernel)",
   "language": "python",
   "name": "quantkernel"
  },
  "language_info": {
   "codemirror_mode": {
    "name": "ipython",
    "version": 3
   },
   "file_extension": ".py",
   "mimetype": "text/x-python",
   "name": "python",
   "nbconvert_exporter": "python",
   "pygments_lexer": "ipython3",
   "version": "3.10.14"
  }
 },
 "nbformat": 4,
 "nbformat_minor": 5
}
